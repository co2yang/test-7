{
 "cells": [
  {
   "cell_type": "code",
   "execution_count": 1,
   "metadata": {},
   "outputs": [
    {
     "ename": "ModuleNotFoundError",
     "evalue": "No module named 'toml'",
     "output_type": "error",
     "traceback": [
      "\u001b[0;31m---------------------------------------------------------------------------\u001b[0m",
      "\u001b[0;31mModuleNotFoundError\u001b[0m                       Traceback (most recent call last)",
      "\u001b[1;32m/workspaces/test-7/key-to-toml.ipynb Cell 1\u001b[0m line \u001b[0;36m2\n\u001b[1;32m      <a href='vscode-notebook-cell://codespaces%2Burban-space-capybara-x79vx6q5w7p2gpx/workspaces/test-7/key-to-toml.ipynb#W0sdnNjb2RlLXJlbW90ZQ%3D%3D?line=0'>1</a>\u001b[0m \u001b[39m# 載入 toml\u001b[39;00m\n\u001b[0;32m----> <a href='vscode-notebook-cell://codespaces%2Burban-space-capybara-x79vx6q5w7p2gpx/workspaces/test-7/key-to-toml.ipynb#W0sdnNjb2RlLXJlbW90ZQ%3D%3D?line=1'>2</a>\u001b[0m \u001b[39mimport\u001b[39;00m \u001b[39mtoml\u001b[39;00m\n\u001b[1;32m      <a href='vscode-notebook-cell://codespaces%2Burban-space-capybara-x79vx6q5w7p2gpx/workspaces/test-7/key-to-toml.ipynb#W0sdnNjb2RlLXJlbW90ZQ%3D%3D?line=2'>3</a>\u001b[0m \u001b[39m# 設定轉換後輸出檔案的路徑\u001b[39;00m\n\u001b[1;32m      <a href='vscode-notebook-cell://codespaces%2Burban-space-capybara-x79vx6q5w7p2gpx/workspaces/test-7/key-to-toml.ipynb#W0sdnNjb2RlLXJlbW90ZQ%3D%3D?line=3'>4</a>\u001b[0m output_file \u001b[39m=\u001b[39m \u001b[39m\"\u001b[39m\u001b[39m.streamlit/secrets.toml\u001b[39m\u001b[39m\"\u001b[39m\n",
      "\u001b[0;31mModuleNotFoundError\u001b[0m: No module named 'toml'"
     ]
    }
   ],
   "source": [
    "# 載入 toml\n",
    "import toml\n",
    "# 設定轉換後輸出檔案的路徑\n",
    "output_file = \".streamlit/secrets.toml\"\n",
    "# 讀取權證檔案\n",
    "with open(\"myproject01-be1b7-firebase-adminsdk-1mh85-36f2d814a2.json\") as f:\n",
    "    # 先讀取這個 JSON 檔案\n",
    "    json_text = f.read()\n",
    "# 給這個檔案一個 key：「FIREBASE_CONFIG_STR」\n",
    "config = {\"FIREBASE_CONFIG_STR\": json_text}\n",
    "# 透過 toml 進行轉換\n",
    "toml_config = toml.dumps(config)\n",
    "# 寫入指定的目標檔案\n",
    "with open(output_file, \"w\") as target:\n",
    "    target.write(toml_config)"
   ]
  },
  {
   "cell_type": "code",
   "execution_count": null,
   "metadata": {},
   "outputs": [],
   "source": []
  }
 ],
 "metadata": {
  "kernelspec": {
   "display_name": ".venv",
   "language": "python",
   "name": "python3"
  },
  "language_info": {
   "codemirror_mode": {
    "name": "ipython",
    "version": 3
   },
   "file_extension": ".py",
   "mimetype": "text/x-python",
   "name": "python",
   "nbconvert_exporter": "python",
   "pygments_lexer": "ipython3",
   "version": "3.11.6"
  }
 },
 "nbformat": 4,
 "nbformat_minor": 2
}
